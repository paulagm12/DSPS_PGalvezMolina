{
  "nbformat": 4,
  "nbformat_minor": 0,
  "metadata": {
    "kernelspec": {
      "display_name": "Python 3",
      "language": "python",
      "name": "python3"
    },
    "language_info": {
      "codemirror_mode": {
        "name": "ipython",
        "version": 3
      },
      "file_extension": ".py",
      "mimetype": "text/x-python",
      "name": "python",
      "nbconvert_exporter": "python",
      "pygments_lexer": "ipython3",
      "version": "3.6.7"
    },
    "nbTranslate": {
      "displayLangs": [
        "*"
      ],
      "hotkey": "alt-t",
      "langInMainMenu": true,
      "sourceLang": "en",
      "targetLang": "fr",
      "useGoogleTranslate": true
    },
    "toc": {
      "base_numbering": 1,
      "colors": {
        "hover_highlight": "#DAA520",
        "running_highlight": "#FF0000",
        "selected_highlight": "#FFD700"
      },
      "moveMenuLeft": true,
      "nav_menu": {},
      "navigate_menu": true,
      "number_sections": true,
      "sideBar": true,
      "skip_h1_title": false,
      "threshold": 4,
      "title_cell": "Table of Contents",
      "title_sidebar": "Contents",
      "toc_cell": false,
      "toc_position": {
        "height": "calc(100% - 180px)",
        "left": "10px",
        "top": "150px",
        "width": "165px"
      },
      "toc_section_display": true,
      "toc_window_display": true
    },
    "colab": {
      "provenance": [],
      "include_colab_link": true
    }
  },
  "cells": [
    {
      "cell_type": "markdown",
      "metadata": {
        "id": "view-in-github",
        "colab_type": "text"
      },
      "source": [
        "<a href=\"https://colab.research.google.com/github/paulagm12/DSPS_PGalvezMolina/blob/main/HW4_PGalvezMolina/HW4_PGalvezMolina_MWrotCurvepynb.ipynb\" target=\"_parent\"><img src=\"https://colab.research.google.com/assets/colab-badge.svg\" alt=\"Open In Colab\"/></a>"
      ]
    },
    {
      "cell_type": "markdown",
      "metadata": {
        "run_control": {
          "frozen": false,
          "read_only": false
        },
        "id": "rxa6Xa3jOdCI"
      },
      "source": [
        "prepared by federica b bianco @fedhere\n",
        "for UDel DSPS PHYS 461/661\n",
        "\n",
        "# testing the \"significance\" of Dark Matter"
      ]
    },
    {
      "cell_type": "code",
      "metadata": {
        "ExecuteTime": {
          "end_time": "2019-09-16T17:54:57.244596Z",
          "start_time": "2019-09-16T17:54:57.231090Z"
        },
        "run_control": {
          "frozen": false,
          "read_only": false
        },
        "id": "Ya2RaOGbOdCJ"
      },
      "source": [
        "...\n",
        "\n",
        "#package I will use for constants and units conversion\n",
        "import astropy\n",
        "from astropy.constants import G\n",
        "\n",
        "#package used to display latex formuale\n",
        "from IPython.display import Latex\n",
        "\n",
        "import pandas as pd\n",
        "import numpy as np\n",
        "import matplotlib as plt\n",
        "from matplotlib import pyplot as plt\n"
      ],
      "execution_count": 1,
      "outputs": []
    },
    {
      "cell_type": "markdown",
      "metadata": {
        "id": "4qp8A2TG1Gwb"
      },
      "source": [
        "In 1970 Vera Rubin published a seminal paper: she measured the rotational speed of HII regions in several galaxies and how it changed as a function of distance to the center of the galaxy. If we believe Newtonian gravity (or GR) we expect that _once all of the mass is included_, i.e. at a radius distance from the center of the galaxy larger than the radius of the galaxy itself, the rotational speed will be proportional to $v\\propto\\frac{1}{r}$"
      ]
    },
    {
      "cell_type": "markdown",
      "metadata": {
        "run_control": {
          "frozen": false,
          "read_only": false
        },
        "id": "j-BDrNseOdCR"
      },
      "source": [
        "## Propagation of  uncertainties rules\n",
        "\n",
        "below are the basic rules for propagation of uncertainties - use [this as reference](https://github.com/fedhere/DSPS/blob/master/resources/Managing%20Errors%20and%20Uncertainty.pdf)"
      ]
    },
    {
      "cell_type": "markdown",
      "metadata": {
        "id": "4LnLCwYpPYSv"
      },
      "source": []
    },
    {
      "cell_type": "markdown",
      "metadata": {
        "id": "iCrFipBzOzqp"
      },
      "source": [
        "\n",
        "\n",
        "\n",
        "$$\n",
        "\\begin{eqnarray}\n",
        "z = x  \\pm y  ~| & ~  &dz = \\sqrt{dx^2 + dy^2}\n",
        "\\\\\n",
        "z = x * y  ~| & ~& dz = |xy|  \\sqrt{\\left(\\frac{dx}{x}\\right)^2 +\n",
        "                                \\left(\\frac{dy}{y}\\right)^2} \\\\\n",
        "z = x / y  ~| & ~& dz = \\left|\\frac{x}{y}\\right| \\sqrt{\\left(\\frac{dx}{x}\\right)^2 +\n",
        "                                                   \\left(\\frac{dy}{y}\\right)^2} \\\\\n",
        "z = x^n ~| & ~& dz = |n| ~ x^{n-1}  dx \\\\\n",
        "z = \\mathrm{c}x ~| & ~& dz = |\\mathrm{c}| ~dx \\\\\n",
        "z = f(x, y) ~| & ~& dz = \\sqrt{\\left(\\frac{\\partial f}{\\partial x}\\right)^2 dx^2 +\\left(\\frac{\\partial f}{\\partial y}\\right)^2 dy^2} \\\\\n",
        "\\end{eqnarray}\n",
        "$$\n"
      ]
    },
    {
      "cell_type": "markdown",
      "metadata": {
        "run_control": {
          "frozen": false,
          "read_only": false
        },
        "id": "WcF0zlWCOdCX"
      },
      "source": [
        "# let's assume a Newtonian framework:\n",
        "the velocity of a body in orbit depends only on the gravitational field of the mass that attracts it, and we can assume that mass is concentrated in the center of mass of (the center for simplicity) the system\n",
        "\n",
        "with G the gravitational constant, $r$ the radius, and $m(r)$ the mass contained within that radius we have the orbital velocity $v$:\n"
      ]
    },
    {
      "cell_type": "markdown",
      "metadata": {
        "id": "ZON0DKl5Qm2S"
      },
      "source": [
        "\n",
        "$v^2 = \\frac{G \\cdot m(r)}{r}$\n"
      ]
    },
    {
      "cell_type": "markdown",
      "metadata": {
        "id": "lVfy9lJ21xMT"
      },
      "source": [
        "Derive this $v\\propto\\frac{1}{r}$ from Newron's law $F~=~\\frac{GMm}{r^2}$. Write each formula and describe each step. You can use latex (you really just need to know ```\\frac{}``` and ```^```) and this reference\n",
        "https://www.physicsclassroom.com/calcpad/circgrav"
      ]
    },
    {
      "cell_type": "markdown",
      "source": [
        "Starting from Newton's Law  \n",
        "\n",
        "$$\\begin{eqnarray}F~=~\\frac{GMm}{r^2}\\\\\n",
        "Ma = ~\\frac{GMm}{r^2}\n",
        "\\end{eqnarray}$$\n",
        "\n",
        "Where $m$ is $m(r)$ the mass contained within the radius under observation, and $a$ is the centripetal acceleration since gravity acts as a centripetal force. Then, we can re-write\n",
        "\n",
        "$$\n",
        "\\begin{eqnarray}Ma = ~\\frac{GMm}{r^2}\\\\\n",
        "M~\\frac{v^2}{r} = ~\\frac{GMm(r)}{r^2}\\\\\n",
        "v^2 = \\frac{G \\cdot m(r)}{r}\n",
        "\\end{eqnarray}\n",
        "$$\n",
        "Namely,\n",
        "$$\n",
        "v\\propto\\frac{1}{\\sqrt{r}}.\n",
        "$$"
      ],
      "metadata": {
        "id": "5-6CZVRm-xAc"
      }
    },
    {
      "cell_type": "markdown",
      "metadata": {
        "run_control": {
          "frozen": false,
          "read_only": false
        },
        "id": "KQAEJtWuOdCb"
      },
      "source": [
        "## M31 rotational curve"
      ]
    },
    {
      "cell_type": "markdown",
      "metadata": {
        "ExecuteTime": {
          "end_time": "2019-08-02T01:34:15.029084Z",
          "start_time": "2019-08-02T01:34:15.026604Z"
        },
        "run_control": {
          "frozen": false,
          "read_only": false
        },
        "id": "BTaXzFYeOdCc"
      },
      "source": [
        "### data ingestion\n",
        "( I store the original paper as a link on another computer now I have to find it again :-( - sorry I will updat the reference )\n",
        "\n",
        "Get the data from the github repository https://github.com/fedhere/DSPS/tree/master/HW4 : there are 2 files: mw.csv and m31.csv. Start with M31, the Andromeda galaxy, Vera Rubin's original target."
      ]
    },
    {
      "cell_type": "markdown",
      "metadata": {
        "id": "_iFrkUYEV1SS"
      },
      "source": [
        "Note that the data contains 2 types of uncertainties: one significantly smaller than the other. The ```dv``` uncertainty is the propagation of the uncertainty in the location of the HII line. The uncertainty called ```err``` if the full error budget:  including _all_ sources of uncertainty and not just the uncertainty in measuring the location of the line. Retain both, you will test your hypothesis with each one to see if it matters which uncertainty you choose"
      ]
    },
    {
      "cell_type": "code",
      "metadata": {
        "ExecuteTime": {
          "end_time": "2019-08-02T01:34:33.446619Z",
          "start_time": "2019-08-02T01:34:33.435793Z"
        },
        "run_control": {
          "frozen": false,
          "read_only": false
        },
        "id": "eZ7nr5DROdCd"
      },
      "source": [
        "m31 = pd.read_csv(\"https://raw.githubusercontent.com/fedhere/DSPS_FBianco/main/HW4/m31.csv\",\n",
        "                  delimiter=\",\", header = 1)\n",
        "m31.rename(columns={'#R(kpc': 'r', 'V(km/s)': 'v', 'St.dev.': 'dv', 'St.error': 'err'}, inplace = True)"
      ],
      "execution_count": 2,
      "outputs": []
    },
    {
      "cell_type": "code",
      "metadata": {
        "id": "luL5UrsNQ1M1",
        "colab": {
          "base_uri": "https://localhost:8080/",
          "height": 206
        },
        "outputId": "fd6adc3d-502e-4f13-dfc8-3118372b1abd"
      },
      "source": [
        "m31.head()"
      ],
      "execution_count": 3,
      "outputs": [
        {
          "output_type": "execute_result",
          "data": {
            "text/plain": [
              "       r        v      dv     err\n",
              "0  0.100  183.939   0.000   0.000\n",
              "1  0.120  190.710  10.265  12.191\n",
              "2  0.144  204.141  22.634  21.808\n",
              "3  0.173  207.601   4.573   4.200\n",
              "4  0.207  210.188   3.943   3.258"
            ],
            "text/html": [
              "\n",
              "  <div id=\"df-eb67e91c-419a-42df-b3c4-f772ec9ed726\" class=\"colab-df-container\">\n",
              "    <div>\n",
              "<style scoped>\n",
              "    .dataframe tbody tr th:only-of-type {\n",
              "        vertical-align: middle;\n",
              "    }\n",
              "\n",
              "    .dataframe tbody tr th {\n",
              "        vertical-align: top;\n",
              "    }\n",
              "\n",
              "    .dataframe thead th {\n",
              "        text-align: right;\n",
              "    }\n",
              "</style>\n",
              "<table border=\"1\" class=\"dataframe\">\n",
              "  <thead>\n",
              "    <tr style=\"text-align: right;\">\n",
              "      <th></th>\n",
              "      <th>r</th>\n",
              "      <th>v</th>\n",
              "      <th>dv</th>\n",
              "      <th>err</th>\n",
              "    </tr>\n",
              "  </thead>\n",
              "  <tbody>\n",
              "    <tr>\n",
              "      <th>0</th>\n",
              "      <td>0.100</td>\n",
              "      <td>183.939</td>\n",
              "      <td>0.000</td>\n",
              "      <td>0.000</td>\n",
              "    </tr>\n",
              "    <tr>\n",
              "      <th>1</th>\n",
              "      <td>0.120</td>\n",
              "      <td>190.710</td>\n",
              "      <td>10.265</td>\n",
              "      <td>12.191</td>\n",
              "    </tr>\n",
              "    <tr>\n",
              "      <th>2</th>\n",
              "      <td>0.144</td>\n",
              "      <td>204.141</td>\n",
              "      <td>22.634</td>\n",
              "      <td>21.808</td>\n",
              "    </tr>\n",
              "    <tr>\n",
              "      <th>3</th>\n",
              "      <td>0.173</td>\n",
              "      <td>207.601</td>\n",
              "      <td>4.573</td>\n",
              "      <td>4.200</td>\n",
              "    </tr>\n",
              "    <tr>\n",
              "      <th>4</th>\n",
              "      <td>0.207</td>\n",
              "      <td>210.188</td>\n",
              "      <td>3.943</td>\n",
              "      <td>3.258</td>\n",
              "    </tr>\n",
              "  </tbody>\n",
              "</table>\n",
              "</div>\n",
              "    <div class=\"colab-df-buttons\">\n",
              "\n",
              "  <div class=\"colab-df-container\">\n",
              "    <button class=\"colab-df-convert\" onclick=\"convertToInteractive('df-eb67e91c-419a-42df-b3c4-f772ec9ed726')\"\n",
              "            title=\"Convert this dataframe to an interactive table.\"\n",
              "            style=\"display:none;\">\n",
              "\n",
              "  <svg xmlns=\"http://www.w3.org/2000/svg\" height=\"24px\" viewBox=\"0 -960 960 960\">\n",
              "    <path d=\"M120-120v-720h720v720H120Zm60-500h600v-160H180v160Zm220 220h160v-160H400v160Zm0 220h160v-160H400v160ZM180-400h160v-160H180v160Zm440 0h160v-160H620v160ZM180-180h160v-160H180v160Zm440 0h160v-160H620v160Z\"/>\n",
              "  </svg>\n",
              "    </button>\n",
              "\n",
              "  <style>\n",
              "    .colab-df-container {\n",
              "      display:flex;\n",
              "      gap: 12px;\n",
              "    }\n",
              "\n",
              "    .colab-df-convert {\n",
              "      background-color: #E8F0FE;\n",
              "      border: none;\n",
              "      border-radius: 50%;\n",
              "      cursor: pointer;\n",
              "      display: none;\n",
              "      fill: #1967D2;\n",
              "      height: 32px;\n",
              "      padding: 0 0 0 0;\n",
              "      width: 32px;\n",
              "    }\n",
              "\n",
              "    .colab-df-convert:hover {\n",
              "      background-color: #E2EBFA;\n",
              "      box-shadow: 0px 1px 2px rgba(60, 64, 67, 0.3), 0px 1px 3px 1px rgba(60, 64, 67, 0.15);\n",
              "      fill: #174EA6;\n",
              "    }\n",
              "\n",
              "    .colab-df-buttons div {\n",
              "      margin-bottom: 4px;\n",
              "    }\n",
              "\n",
              "    [theme=dark] .colab-df-convert {\n",
              "      background-color: #3B4455;\n",
              "      fill: #D2E3FC;\n",
              "    }\n",
              "\n",
              "    [theme=dark] .colab-df-convert:hover {\n",
              "      background-color: #434B5C;\n",
              "      box-shadow: 0px 1px 3px 1px rgba(0, 0, 0, 0.15);\n",
              "      filter: drop-shadow(0px 1px 2px rgba(0, 0, 0, 0.3));\n",
              "      fill: #FFFFFF;\n",
              "    }\n",
              "  </style>\n",
              "\n",
              "    <script>\n",
              "      const buttonEl =\n",
              "        document.querySelector('#df-eb67e91c-419a-42df-b3c4-f772ec9ed726 button.colab-df-convert');\n",
              "      buttonEl.style.display =\n",
              "        google.colab.kernel.accessAllowed ? 'block' : 'none';\n",
              "\n",
              "      async function convertToInteractive(key) {\n",
              "        const element = document.querySelector('#df-eb67e91c-419a-42df-b3c4-f772ec9ed726');\n",
              "        const dataTable =\n",
              "          await google.colab.kernel.invokeFunction('convertToInteractive',\n",
              "                                                    [key], {});\n",
              "        if (!dataTable) return;\n",
              "\n",
              "        const docLinkHtml = 'Like what you see? Visit the ' +\n",
              "          '<a target=\"_blank\" href=https://colab.research.google.com/notebooks/data_table.ipynb>data table notebook</a>'\n",
              "          + ' to learn more about interactive tables.';\n",
              "        element.innerHTML = '';\n",
              "        dataTable['output_type'] = 'display_data';\n",
              "        await google.colab.output.renderOutput(dataTable, element);\n",
              "        const docLink = document.createElement('div');\n",
              "        docLink.innerHTML = docLinkHtml;\n",
              "        element.appendChild(docLink);\n",
              "      }\n",
              "    </script>\n",
              "  </div>\n",
              "\n",
              "\n",
              "<div id=\"df-ccaca415-5bce-46b3-a551-029d7e137c07\">\n",
              "  <button class=\"colab-df-quickchart\" onclick=\"quickchart('df-ccaca415-5bce-46b3-a551-029d7e137c07')\"\n",
              "            title=\"Suggest charts.\"\n",
              "            style=\"display:none;\">\n",
              "\n",
              "<svg xmlns=\"http://www.w3.org/2000/svg\" height=\"24px\"viewBox=\"0 0 24 24\"\n",
              "     width=\"24px\">\n",
              "    <g>\n",
              "        <path d=\"M19 3H5c-1.1 0-2 .9-2 2v14c0 1.1.9 2 2 2h14c1.1 0 2-.9 2-2V5c0-1.1-.9-2-2-2zM9 17H7v-7h2v7zm4 0h-2V7h2v10zm4 0h-2v-4h2v4z\"/>\n",
              "    </g>\n",
              "</svg>\n",
              "  </button>\n",
              "\n",
              "<style>\n",
              "  .colab-df-quickchart {\n",
              "      --bg-color: #E8F0FE;\n",
              "      --fill-color: #1967D2;\n",
              "      --hover-bg-color: #E2EBFA;\n",
              "      --hover-fill-color: #174EA6;\n",
              "      --disabled-fill-color: #AAA;\n",
              "      --disabled-bg-color: #DDD;\n",
              "  }\n",
              "\n",
              "  [theme=dark] .colab-df-quickchart {\n",
              "      --bg-color: #3B4455;\n",
              "      --fill-color: #D2E3FC;\n",
              "      --hover-bg-color: #434B5C;\n",
              "      --hover-fill-color: #FFFFFF;\n",
              "      --disabled-bg-color: #3B4455;\n",
              "      --disabled-fill-color: #666;\n",
              "  }\n",
              "\n",
              "  .colab-df-quickchart {\n",
              "    background-color: var(--bg-color);\n",
              "    border: none;\n",
              "    border-radius: 50%;\n",
              "    cursor: pointer;\n",
              "    display: none;\n",
              "    fill: var(--fill-color);\n",
              "    height: 32px;\n",
              "    padding: 0;\n",
              "    width: 32px;\n",
              "  }\n",
              "\n",
              "  .colab-df-quickchart:hover {\n",
              "    background-color: var(--hover-bg-color);\n",
              "    box-shadow: 0 1px 2px rgba(60, 64, 67, 0.3), 0 1px 3px 1px rgba(60, 64, 67, 0.15);\n",
              "    fill: var(--button-hover-fill-color);\n",
              "  }\n",
              "\n",
              "  .colab-df-quickchart-complete:disabled,\n",
              "  .colab-df-quickchart-complete:disabled:hover {\n",
              "    background-color: var(--disabled-bg-color);\n",
              "    fill: var(--disabled-fill-color);\n",
              "    box-shadow: none;\n",
              "  }\n",
              "\n",
              "  .colab-df-spinner {\n",
              "    border: 2px solid var(--fill-color);\n",
              "    border-color: transparent;\n",
              "    border-bottom-color: var(--fill-color);\n",
              "    animation:\n",
              "      spin 1s steps(1) infinite;\n",
              "  }\n",
              "\n",
              "  @keyframes spin {\n",
              "    0% {\n",
              "      border-color: transparent;\n",
              "      border-bottom-color: var(--fill-color);\n",
              "      border-left-color: var(--fill-color);\n",
              "    }\n",
              "    20% {\n",
              "      border-color: transparent;\n",
              "      border-left-color: var(--fill-color);\n",
              "      border-top-color: var(--fill-color);\n",
              "    }\n",
              "    30% {\n",
              "      border-color: transparent;\n",
              "      border-left-color: var(--fill-color);\n",
              "      border-top-color: var(--fill-color);\n",
              "      border-right-color: var(--fill-color);\n",
              "    }\n",
              "    40% {\n",
              "      border-color: transparent;\n",
              "      border-right-color: var(--fill-color);\n",
              "      border-top-color: var(--fill-color);\n",
              "    }\n",
              "    60% {\n",
              "      border-color: transparent;\n",
              "      border-right-color: var(--fill-color);\n",
              "    }\n",
              "    80% {\n",
              "      border-color: transparent;\n",
              "      border-right-color: var(--fill-color);\n",
              "      border-bottom-color: var(--fill-color);\n",
              "    }\n",
              "    90% {\n",
              "      border-color: transparent;\n",
              "      border-bottom-color: var(--fill-color);\n",
              "    }\n",
              "  }\n",
              "</style>\n",
              "\n",
              "  <script>\n",
              "    async function quickchart(key) {\n",
              "      const quickchartButtonEl =\n",
              "        document.querySelector('#' + key + ' button');\n",
              "      quickchartButtonEl.disabled = true;  // To prevent multiple clicks.\n",
              "      quickchartButtonEl.classList.add('colab-df-spinner');\n",
              "      try {\n",
              "        const charts = await google.colab.kernel.invokeFunction(\n",
              "            'suggestCharts', [key], {});\n",
              "      } catch (error) {\n",
              "        console.error('Error during call to suggestCharts:', error);\n",
              "      }\n",
              "      quickchartButtonEl.classList.remove('colab-df-spinner');\n",
              "      quickchartButtonEl.classList.add('colab-df-quickchart-complete');\n",
              "    }\n",
              "    (() => {\n",
              "      let quickchartButtonEl =\n",
              "        document.querySelector('#df-ccaca415-5bce-46b3-a551-029d7e137c07 button');\n",
              "      quickchartButtonEl.style.display =\n",
              "        google.colab.kernel.accessAllowed ? 'block' : 'none';\n",
              "    })();\n",
              "  </script>\n",
              "</div>\n",
              "    </div>\n",
              "  </div>\n"
            ]
          },
          "metadata": {},
          "execution_count": 3
        }
      ]
    },
    {
      "cell_type": "markdown",
      "source": [
        "# exploratory data analysis\n",
        "proceed with at least a few basic exploratory tasks"
      ],
      "metadata": {
        "id": "8nZhqbhvP2UC"
      }
    },
    {
      "cell_type": "code",
      "metadata": {
        "ExecuteTime": {
          "end_time": "2019-08-02T01:35:26.395158Z",
          "start_time": "2019-08-02T01:35:26.373338Z"
        },
        "run_control": {
          "frozen": false,
          "read_only": false
        },
        "id": "QsNRokb1OdCh",
        "colab": {
          "base_uri": "https://localhost:8080/",
          "height": 484
        },
        "outputId": "ecb2983c-a2be-4f38-d620-0c43fcff35be"
      },
      "source": [
        "print('There are {} records in the file.'.format(len(m31)))\n",
        "plt.hist(m31['r'])\n",
        "plt.xlabel(\"R (kpc)\")\n",
        "plt.ylabel(\"Frequency\")"
      ],
      "execution_count": 4,
      "outputs": [
        {
          "output_type": "stream",
          "name": "stdout",
          "text": [
            "There are 55 records in the file.\n"
          ]
        },
        {
          "output_type": "execute_result",
          "data": {
            "text/plain": [
              "Text(0, 0.5, 'Frequency')"
            ]
          },
          "metadata": {},
          "execution_count": 4
        },
        {
          "output_type": "display_data",
          "data": {
            "text/plain": [
              "<Figure size 640x480 with 1 Axes>"
            ],
            "image/png": "[encoded data removed]"
          },
          "metadata": {}
        }
      ]
    },
    {
      "cell_type": "markdown",
      "source": [
        "# Fig. 1. Histogram of radius in the m31 data set. Part of exploratory analysis."
      ],
      "metadata": {
        "id": "FTnu_WLIYAVK"
      }
    },
    {
      "cell_type": "code",
      "source": [
        "plt.hist(m31['v'])\n",
        "plt.xlabel(\"V (km/S)\")\n",
        "plt.ylabel(\"Frequency\")"
      ],
      "metadata": {
        "colab": {
          "base_uri": "https://localhost:8080/",
          "height": 469
        },
        "id": "bzc041FeGM8f",
        "outputId": "6b5c3819-7714-4016-91e6-2f53872e207b"
      },
      "execution_count": 5,
      "outputs": [
        {
          "output_type": "execute_result",
          "data": {
            "text/plain": [
              "Text(0, 0.5, 'Frequency')"
            ]
          },
          "metadata": {},
          "execution_count": 5
        },
        {
          "output_type": "display_data",
          "data": {
            "text/plain": [
              "<Figure size 640x480 with 1 Axes>"
            ],
            "image/png": "[encoded data removed]"
          },
          "metadata": {}
        }
      ]
    },
    {
      "cell_type": "markdown",
      "source": [
        "# Fig. 2. Histogram of velocity in the m31 data set. Part of exploratory analysis."
      ],
      "metadata": {
        "id": "5ujxD-CrYaQ5"
      }
    },
    {
      "cell_type": "code",
      "source": [
        "plt.hist(m31['dv'])\n",
        "plt.xlabel(\"Standard Deviation (km/s)\")\n",
        "plt.ylabel(\"Frequency\")"
      ],
      "metadata": {
        "colab": {
          "base_uri": "https://localhost:8080/",
          "height": 466
        },
        "id": "eFFBDYMbGRsl",
        "outputId": "cdf4b520-bafe-418f-852a-423e92dce5fb"
      },
      "execution_count": 6,
      "outputs": [
        {
          "output_type": "execute_result",
          "data": {
            "text/plain": [
              "Text(0, 0.5, 'Frequency')"
            ]
          },
          "metadata": {},
          "execution_count": 6
        },
        {
          "output_type": "display_data",
          "data": {
            "text/plain": [
              "<Figure size 640x480 with 1 Axes>"
            ],
            "image/png": "[encoded data removed]"
          },
          "metadata": {}
        }
      ]
    },
    {
      "cell_type": "markdown",
      "source": [
        "# Fig. 3. Histogram of velocity's standard deviation in the m31 data set. Part of exploratory analysis."
      ],
      "metadata": {
        "id": "AwiMCVPTYhO5"
      }
    },
    {
      "cell_type": "code",
      "source": [
        "plt.hist(m31['err'])\n",
        "plt.xlabel(\"Standard Error (km/s)\")\n",
        "plt.ylabel(\"Frequency\")"
      ],
      "metadata": {
        "colab": {
          "base_uri": "https://localhost:8080/",
          "height": 466
        },
        "id": "qK2AfbziGWEv",
        "outputId": "44428423-c98e-4899-bd44-1960ca6be544"
      },
      "execution_count": 7,
      "outputs": [
        {
          "output_type": "execute_result",
          "data": {
            "text/plain": [
              "Text(0, 0.5, 'Frequency')"
            ]
          },
          "metadata": {},
          "execution_count": 7
        },
        {
          "output_type": "display_data",
          "data": {
            "text/plain": [
              "<Figure size 640x480 with 1 Axes>"
            ],
            "image/png": "[encoded data removed]"
          },
          "metadata": {}
        }
      ]
    },
    {
      "cell_type": "markdown",
      "source": [
        "# Fig. 4. Histogram of standard error of the velocity in the m31 data set. Part of exploratory analysis."
      ],
      "metadata": {
        "id": "e7EVmQqbaAeX"
      }
    },
    {
      "cell_type": "markdown",
      "metadata": {
        "run_control": {
          "frozen": false,
          "read_only": false
        },
        "id": "Vv0Ut6vOOdCk"
      },
      "source": [
        "from https://en.wikipedia.org/wiki/Andromeda_Galaxy get the extent of the luminous component of M31 (Andromeda). The distance of the Galaxy multiplied by the angular size will give you this information from basic trigonometry (make sure you convert the units properly, using astropy). Make sure you include the uncertainties! uncertainties in the distance will give you the uncertainty in the size\n",
        "   \n"
      ]
    },
    {
      "cell_type": "code",
      "metadata": {
        "id": "kvIFr6D778ri"
      },
      "source": [
        "# 3.167° × 1° data from Wikipedia\n",
        "apparentSizeM31 = 3.167"
      ],
      "execution_count": 8,
      "outputs": []
    },
    {
      "cell_type": "code",
      "metadata": {
        "ExecuteTime": {
          "end_time": "2019-08-02T01:35:41.413407Z",
          "start_time": "2019-08-02T01:35:41.408764Z"
        },
        "run_control": {
          "frozen": false,
          "read_only": false
        },
        "id": "tzGNh98hOdCl",
        "colab": {
          "base_uri": "https://localhost:8080/"
        },
        "outputId": "33249297-a236-4ed8-e700-1cfd85ca5b87"
      },
      "source": [
        "# note : by PEP8 standards the import should be at the top, I leave it here for hyou to see that I am using astropy.units now\n",
        "from astropy import units as u\n",
        "m31angS = apparentSizeM31 * u.degree\n",
        "print(\"Angular Size of the visible component of Andromeda: {:.5f}\".format(m31angS.to(u.rad)  ))"
      ],
      "execution_count": 9,
      "outputs": [
        {
          "output_type": "stream",
          "name": "stdout",
          "text": [
            "Angular Size of the visible component of Andromeda: 0.05527 rad\n"
          ]
        }
      ]
    },
    {
      "cell_type": "markdown",
      "metadata": {
        "id": "cOw0Y4KNWTOZ"
      },
      "source": [
        "Please make sure you print a sensible number of decimal digits! you have a  number of significant digits set by the number of digit in the info you get from wikipedia"
      ]
    },
    {
      "cell_type": "markdown",
      "metadata": {
        "id": "hF2wXZ988QgS"
      },
      "source": [
        "The distance, from Wikipedia, will have an uncertainty. Convert both to kiloparsecs Kpc"
      ]
    },
    {
      "cell_type": "code",
      "metadata": {
        "ExecuteTime": {
          "end_time": "2019-08-02T01:35:42.257553Z",
          "start_time": "2019-08-02T01:35:42.254539Z"
        },
        "run_control": {
          "frozen": false,
          "read_only": false
        },
        "id": "7-nEP6KrOdCo",
        "colab": {
          "base_uri": "https://localhost:8080/"
        },
        "outputId": "bad8f5bf-c1d4-44e3-ef56-7500e9aba765"
      },
      "source": [
        "# 2.57 ± 0.06 million light-years\n",
        "m31Distance = 2.57*10**6 * 0.000306601 * u.kpc\n",
        "m31DistanceError = 0.06 * 10**6 * 0.000306601 * u.kpc\n",
        "print(\"Distance of the visible component of Andromeda: {:.2e} +/- {:.1e}\".format(m31Distance, m31DistanceError))"
      ],
      "execution_count": 10,
      "outputs": [
        {
          "output_type": "stream",
          "name": "stdout",
          "text": [
            "Distance of the visible component of Andromeda: 7.88e+02 kpc +/- 1.8e+01 kpc\n"
          ]
        }
      ]
    },
    {
      "cell_type": "code",
      "metadata": {
        "ExecuteTime": {
          "end_time": "2019-08-02T01:35:42.815232Z",
          "start_time": "2019-08-02T01:35:42.810316Z"
        },
        "run_control": {
          "frozen": false,
          "read_only": false
        },
        "id": "0y_V9AuFOdCv",
        "colab": {
          "base_uri": "https://localhost:8080/"
        },
        "outputId": "d680d900-8dd7-4075-d24d-ff44600851b8"
      },
      "source": [
        "# Using small angle approximation\n",
        "m31Size = m31Distance * m31angS.to(u.rad).value\n",
        "m31SizeError = m31DistanceError * m31angS.to(u.rad).value\n",
        "print(\"Size of the visible component of Andromeda: \" +\n",
        "      r\"{:.1f} +/- {:2.1f}\".format(m31Size, m31SizeError))#, m31SizeError\n"
      ],
      "execution_count": 11,
      "outputs": [
        {
          "output_type": "stream",
          "name": "stdout",
          "text": [
            "Size of the visible component of Andromeda: 43.6 kpc +/- 1.0 kpc\n"
          ]
        }
      ]
    },
    {
      "cell_type": "markdown",
      "metadata": {
        "id": "_pTXgdTL8jv6"
      },
      "source": [
        "Print the distance like I printed the angular size.\n",
        "\n",
        "To get the physical size of the visible component of andtomeda you can use simple trigonometry: $y = r * sin(\\alpha) ~ \\sim ~ r \\alpha $ for small angles\n",
        "\n",
        "\n",
        "Print the physical size of the Andromeda galaxy (remember decimal digits, proper formatting etc etc).\n"
      ]
    },
    {
      "cell_type": "markdown",
      "metadata": {
        "run_control": {
          "frozen": false,
          "read_only": false
        },
        "id": "97o52hRhOdCy"
      },
      "source": [
        "### find the first measurement  in your data table that includes all the luminous mass.\n",
        "\n",
        "What is the smallest radius in your data where the luminous mass is completely included and what is the veolcity at that radius?\n",
        "You can do it by broadcasting (see homework 3)"
      ]
    },
    {
      "cell_type": "code",
      "metadata": {
        "ExecuteTime": {
          "end_time": "2019-08-02T02:10:47.943179Z",
          "start_time": "2019-08-02T02:10:47.937541Z"
        },
        "run_control": {
          "frozen": false,
          "read_only": false
        },
        "id": "JF31dWaBOdCz",
        "colab": {
          "base_uri": "https://localhost:8080/"
        },
        "outputId": "f260f7ea-3c2a-46be-b953-a3841951f9c2"
      },
      "source": [
        "smallR = m31[m31['r'] >= m31Size].sort_values(by = 'r').iloc[0][0]\n",
        "smallV = m31[m31['r'] >= m31Size].sort_values(by = 'r').iloc[0][1]\n",
        "print(smallR, smallV)"
      ],
      "execution_count": 12,
      "outputs": [
        {
          "output_type": "stream",
          "name": "stdout",
          "text": [
            "49.222 237.069\n"
          ]
        }
      ]
    },
    {
      "cell_type": "markdown",
      "metadata": {
        "run_control": {
          "frozen": false,
          "read_only": false
        },
        "id": "TVWiU84XOdDA"
      },
      "source": [
        "We expect the velocity to decrease as 1/r if all mass is included: the velocity at a radius twice as far as the radius that includes all the mass should be a factor 2 slower, three times as far a factor 3 slower."
      ]
    },
    {
      "cell_type": "markdown",
      "metadata": {
        "id": "b096Ax33SiXl"
      },
      "source": [
        "write a function that\n",
        "\n",
        "1. finds the smallest radius in the dataset that is at least N times the radius of the visible galaxy,\n",
        "\n",
        "2. takes as arguments:\n",
        "    - the data and\n",
        "    - N\n",
        "    - the size of the luminous component of the galaxy\n",
        "\n",
        "2. Returns the value of the radius and its uncertainty and the velocity and its uncertainty"
      ]
    },
    {
      "cell_type": "code",
      "metadata": {
        "ExecuteTime": {
          "end_time": "2019-08-02T02:07:26.053511Z",
          "start_time": "2019-08-02T02:07:26.046677Z"
        },
        "run_control": {
          "frozen": false,
          "read_only": false
        },
        "id": "-_O34Bb7OdC2"
      },
      "source": [
        "def getradii(df, N, size):\n",
        "    \"\"\"\n",
        "    Extracts measurements for the first radius greater than or equal to N times the given size.\n",
        "\n",
        "    Parameters:\n",
        "    df (DataFrame): A DataFrame containing measurement data, with columns 'r', 'v', 'dv', and 'err'.\n",
        "    N (int): Multiplier for the given size to determine the minimum radius for selection (number of galactic radii).\n",
        "    size (float): The size used to calculate the minimum radius (size) for selection.\n",
        "\n",
        "    Returns:\n",
        "    tuple: A tuple containing the radius (r), velocity (v), velocity uncertainty (dv), and error (err)\n",
        "    for the first measurement that meets the criteria.\n",
        "    \"\"\"\n",
        "\n",
        "    smallest_vals = df[df['r'] >= N*size].sort_values(by = 'r')\n",
        "    r = smallest_vals.iloc[0][0]\n",
        "    v = smallest_vals.iloc[0][1]\n",
        "    dv = smallest_vals.iloc[0][2]\n",
        "    err = smallest_vals.iloc[0][3]\n",
        "    return r, v, dv, err"
      ],
      "execution_count": 105,
      "outputs": []
    },
    {
      "cell_type": "code",
      "source": [
        "getradii(m31, 1, m31Size/2)"
      ],
      "metadata": {
        "colab": {
          "base_uri": "https://localhost:8080/"
        },
        "id": "N_YdEUF97Kfk",
        "outputId": "e1048e4a-0089-4207-c4a1-2b7c1c6eaeb4"
      },
      "execution_count": 102,
      "outputs": [
        {
          "output_type": "execute_result",
          "data": {
            "text/plain": [
              "(23.738, 236.511, 11.729, 1.58)"
            ]
          },
          "metadata": {},
          "execution_count": 102
        }
      ]
    },
    {
      "cell_type": "markdown",
      "metadata": {
        "ExecuteTime": {
          "end_time": "2019-08-01T18:13:58.231637Z",
          "start_time": "2019-08-01T18:13:58.229447Z"
        },
        "run_control": {
          "frozen": false,
          "read_only": false
        },
        "id": "ogu_iquzOdC5"
      },
      "source": [
        "### data visualization"
      ]
    },
    {
      "cell_type": "markdown",
      "metadata": {
        "id": "kJ6MujVJUyel"
      },
      "source": [
        "make a plot that shows\n",
        "\n",
        "1. the rotational curve of the galaxy (as a line)\n",
        "\n",
        "2. each velocity as an errorbar with error equal to err in the same color as the line in 1\n",
        "\n",
        "3. each velocity as an errorbar with error equal to dv in  the same color but a different line thickness\n",
        "\n",
        "\n",
        "4. the datapoint corresponding to N=1, 2, 3 each in a different color.\n",
        "\n",
        "5. add a legend that indicates the meaning of each color (```pl.legend()```)\n",
        "\n",
        "6. add a text that indicates the velocity and its uncertainty (dv and err) just below the largest errorbar (```pl.text()```)\n",
        "\n",
        "7. limit the x axis to the \"relevant\" portion of the data"
      ]
    },
    {
      "cell_type": "code",
      "source": [
        "plt.errorbar(m31['r'], m31['v'], m31['err'], color = 'blue', label = \"r\") #1 and 2\n",
        "plt.errorbar(m31['r'], m31['v'], m31['dv'], color = 'blue', linewidth = 0.2) #3\n",
        "plt.errorbar(getradii(m31, 1, m31Size/2)[0],  getradii(m31, 1, m31Size/2)[1], yerr = getradii(m31, 1, m31Size/2)[2], color = 'orange', label = \"radius\")\n",
        "plt.errorbar(getradii(m31, 2, m31Size/2)[0],  getradii(m31, 2, m31Size/2)[1], yerr = getradii(m31, 2, m31Size/2)[2], color = 'green', label = \"2xradius\")\n",
        "plt.errorbar(getradii(m31, 3, m31Size/2)[0],  getradii(m31, 3, m31Size/2)[1], yerr = getradii(m31, 3, m31Size/2)[2], color = 'red', label = \"3xradius\")\n",
        "plt.errorbar(getradii(m31, 1, m31Size/2)[0],  getradii(m31, 1, m31Size/2)[1], yerr = getradii(m31, 1, m31Size/2)[3], color = 'black', linewidth = 2)\n",
        "plt.errorbar(getradii(m31, 2, m31Size/2)[0],  getradii(m31, 2, m31Size/2)[1], yerr = getradii(m31, 2, m31Size/2)[3], color = 'black', linewidth = 2)\n",
        "plt.errorbar(getradii(m31, 3, m31Size/2)[0],  getradii(m31, 3, m31Size/2)[1], yerr = getradii(m31, 3, m31Size/2)[3], color = 'black', linewidth = 2)\n",
        "\n",
        "plt.text(getradii(m31, 1, m31Size/2)[0],  getradii(m31, 1, m31Size/2)[1]-60, '{}\\n({},{})'.format(getradii(m31, 1, m31Size/2)[1],  getradii(m31, 1, m31Size/2)[2], getradii(m31, 1, m31Size/2)[3]), horizontalalignment = 'center', fontsize = 'small')\n",
        "plt.text(getradii(m31, 2, m31Size/2)[0],  getradii(m31, 2, m31Size/2)[1]-160, '{}\\n({},{})'.format(getradii(m31, 2, m31Size/2)[1],  getradii(m31, 2, m31Size/2)[2], getradii(m31, 2, m31Size/2)[3]), horizontalalignment = 'center', fontsize = 'small')\n",
        "plt.text(getradii(m31, 3, m31Size/2)[0],  getradii(m31, 3, m31Size/2)[1]-180, '{}\\n({},{})'.format(getradii(m31, 3, m31Size/2)[1],  getradii(m31, 3, m31Size/2)[2], getradii(m31, 3, m31Size/2)[3]), horizontalalignment = 'center', fontsize = 'small')\n",
        "\n",
        "plt.ylim(0, 500)\n",
        "plt.xlim(0, 90)\n",
        "plt.xlabel(\"Radius [kpc]\")\n",
        "plt.ylabel(\"V [km/s]\")\n",
        "plt.legend()\n",
        "plt.show()"
      ],
      "metadata": {
        "colab": {
          "base_uri": "https://localhost:8080/",
          "height": 455
        },
        "id": "TOcEsLUE0kS3",
        "outputId": "bd236a22-f2c0-420f-9098-bc8161cf0e74"
      },
      "execution_count": 15,
      "outputs": [
        {
          "output_type": "display_data",
          "data": {
            "text/plain": [
              "<Figure size 640x480 with 1 Axes>"
            ],
            "image/png": "[encoded data removed]"
          },
          "metadata": {}
        }
      ]
    },
    {
      "cell_type": "markdown",
      "source": [
        "# Fig. 5. Velocity vs. Radius plot of the m31 data set. The blue line shows the corresponding velocity as the size (radius) of the galaxy increases with its corresponding error (the thicker line is the standard error, and the fainter the standard deviation). In orange, green and red the data for 1,2 and 3 galactic radii is shown with the corresponding standard deviation and standard error for each as well (black)."
      ],
      "metadata": {
        "id": "e0_MuTg7c7i9"
      }
    },
    {
      "cell_type": "code",
      "source": [
        "def plotGal(gal, rds):\n",
        "\n",
        "    \"\"\"\n",
        "    Plots a galaxy's velocity vs. radius (size) profile along with error bars and key radii points.\n",
        "\n",
        "    Parameters:\n",
        "    gal (DataFrame): A DataFrame containing galaxy measurement data with columns 'r', 'v', 'dv', and 'err'.\n",
        "    rds (float): The size parameter used to calculate radii for plotting.\n",
        "\n",
        "    Returns:\n",
        "    None: The function generates a plot using Matplotlib to visualize the galaxy's velocity profile.\n",
        "    \"\"\"\n",
        "\n",
        "    plt.errorbar(gal['r'], gal['v'], gal['err'], color = 'blue', label = \"r\") #1 and 2\n",
        "    plt.errorbar(gal['r'], gal['v'], gal['dv'], color = 'blue', linewidth = 0.2) #3\n",
        "    plt.errorbar(getradii(gal, 1, rds)[0],  getradii(gal, 1, rds)[1], yerr = getradii(gal, 1, rds)[2], color = 'orange', label = \"radius\")\n",
        "    plt.errorbar(getradii(gal, 2, rds)[0],  getradii(gal, 2, rds)[1], yerr = getradii(gal, 2, rds)[2], color = 'green', label = \"2xradius\")\n",
        "    plt.errorbar(getradii(gal, 3, rds)[0],  getradii(gal, 3, rds)[1], yerr = getradii(gal, 3, rds)[2], color = 'red', label = \"3xradius\")\n",
        "    plt.errorbar(getradii(gal, 1, rds)[0],  getradii(gal, 1, rds)[1], yerr = getradii(gal, 1, rds)[3], color = 'black', linewidth = 2)\n",
        "    plt.errorbar(getradii(gal, 2, rds)[0],  getradii(gal, 2, rds)[1], yerr = getradii(gal, 2, rds)[3], color = 'black', linewidth = 2)\n",
        "    plt.errorbar(getradii(gal, 3, rds)[0],  getradii(gal, 3, rds)[1], yerr = getradii(gal, 3, rds)[3], color = 'black', linewidth = 2)\n",
        "\n",
        "    plt.text(getradii(gal, 1, rds)[0],  getradii(gal, 1, rds)[1]-getradii(gal, 1, rds)[2], '{}\\n({},{})'.format(getradii(gal, 1, rds)[1],  getradii(gal, 1, rds)[2], getradii(gal, 1, rds)[3]), horizontalalignment = 'center', verticalalignment=\"top\", fontsize = 'small')\n",
        "    plt.text(getradii(gal, 2, rds)[0],  getradii(gal, 2, rds)[1]- getradii(gal, 2, rds)[2], '{}\\n({},{})'.format(getradii(gal, 2, rds)[1],  getradii(gal, 2, rds)[2], getradii(gal, 2, rds)[3]), horizontalalignment = 'center', verticalalignment=\"top\",fontsize = 'small')\n",
        "    plt.text(getradii(gal, 3, rds)[0],  getradii(gal, 3, rds)[1]-getradii(gal, 3, rds)[2], '{}\\n({},{})'.format(getradii(gal, 3, rds)[1],  getradii(gal, 3, rds)[2], getradii(gal, 3, rds)[3]), horizontalalignment = 'center', verticalalignment=\"top\", fontsize = 'small')\n",
        "\n",
        "    plt.ylim(0, 500)\n",
        "    plt.xlim(0, 90)\n",
        "    plt.xlabel(\"R [kpc]\")\n",
        "    plt.ylabel(\"V [km/s]\")\n",
        "    plt.legend()\n",
        "    plt.show()"
      ],
      "metadata": {
        "id": "QyMpeHMgEgtb"
      },
      "execution_count": 106,
      "outputs": []
    },
    {
      "cell_type": "code",
      "metadata": {
        "ExecuteTime": {
          "end_time": "2019-08-02T03:01:27.556063Z",
          "start_time": "2019-08-02T03:01:27.302184Z"
        },
        "run_control": {
          "frozen": false,
          "read_only": false
        },
        "id": "7IMXYY8BOdC6",
        "colab": {
          "base_uri": "https://localhost:8080/",
          "height": 283
        },
        "outputId": "b4ed427b-6000-4f86-fc28-add25eb67fca"
      },
      "source": [
        "# Prof. Bianco's graph"
      ],
      "execution_count": null,
      "outputs": [
        {
          "output_type": "display_data",
          "data": {
            "image/png": "[encoded data removed]",
            "text/plain": [
              "<Figure size 432x288 with 1 Axes>"
            ]
          },
          "metadata": {
            "tags": []
          }
        }
      ]
    },
    {
      "cell_type": "markdown",
      "source": [
        "# Fig. 6. Professor Bianco's given graph to reproduce."
      ],
      "metadata": {
        "id": "OwI5zV59eZ6h"
      }
    },
    {
      "cell_type": "code",
      "source": [
        "m31Rds = m31Size/2\n",
        "plotGal(m31, m31Rds)"
      ],
      "metadata": {
        "colab": {
          "base_uri": "https://localhost:8080/",
          "height": 455
        },
        "id": "36ShQH4zEcuN",
        "outputId": "b028dd93-59c3-44a3-a43e-2c122a9412b7"
      },
      "execution_count": 107,
      "outputs": [
        {
          "output_type": "display_data",
          "data": {
            "text/plain": [
              "<Figure size 640x480 with 1 Axes>"
            ],
            "image/png": "[encoded data removed]"
          },
          "metadata": {}
        }
      ]
    },
    {
      "cell_type": "markdown",
      "source": [
        "# Fig. 7. Same as Fig.6 only that this was generated through a function."
      ],
      "metadata": {
        "id": "lmShYqEvekC9"
      }
    },
    {
      "cell_type": "markdown",
      "metadata": {
        "id": "bIbv3YrhTo0X"
      },
      "source": [
        "Write a function that for a given dataset and a given luminous radius and a given N\n",
        "  \n",
        "  1) uses the function above to find the radius at least as large as needed and the velocity at that radius,\n",
        "  \n",
        "  2) states the expected drop in rotational velocities according to Newton's law $v\\propto 1/r$\n",
        "  \n",
        "  3) calculates the ratio of radii and the ratio of velocities at N radii from the center N=1 and N=N (input, e.g. 2, 3 etc) with uncertainties,\n",
        "  \n",
        "  4) and stated whether that ratio is consistent within the uncertainties with Newton's law $v \\propto 1/r$\n",
        "  \n",
        "Your function should print\n",
        "\n",
        "     - the expected ratio based on the radii,\n",
        "     - the calculated ratio using ```dv```, and its uncertainty, -\n",
        "     - the 2-$\\sigma$ upper and lower limits of the calculated ratio\n",
        "     - whether the expected ratio is within the $2-\\sigma$ of the calculated ratio,\n",
        "  5) and the same using ```err```  instead of ```dv```"
      ]
    },
    {
      "cell_type": "code",
      "metadata": {
        "ExecuteTime": {
          "end_time": "2019-08-02T02:22:18.485172Z",
          "start_time": "2019-08-02T02:22:18.477807Z"
        },
        "run_control": {
          "frozen": false,
          "read_only": false
        },
        "id": "1hhTw8N4OdDB"
      },
      "source": [
        "def vratios(df, rds, N, err = 'dv'):\n",
        "    \"\"\"\n",
        "    Calculate and print the velocity ratios for a given galaxy dataset at specified (galactic) radii multiples.\n",
        "\n",
        "    Parameters:\n",
        "    df (DataFrame): A DataFrame containing galaxy measurement data with columns 'r', 'v', 'dv', and 'err'.\n",
        "    rds (float): The size parameter used to calculate radii for the specified multiples.\n",
        "    N (int): The multiple of (galactic) radii for which to calculate the velocity ratio.\n",
        "    err (str, optional): The type of error to consider. Default is 'dv'.\n",
        "\n",
        "    Returns:\n",
        "    None: The function prints the calculated velocity ratios and related information.\n",
        "    \"\"\"\n",
        "    error = 2 if err == 'dv' else 3\n",
        "    smallR_1 = getradii(df, 1, rds)[0]\n",
        "    smallV_1 = getradii(df, 1, rds)[1]\n",
        "    err_1 = getradii(df, 1, rds)[error]\n",
        "    smallR_N = getradii(df, N, rds)[0]\n",
        "    smallV_N = getradii(df, N, rds)[1]\n",
        "    err_N = getradii(df, N, rds)[2]\n",
        "\n",
        "    cratioV = smallV_1/smallV_N\n",
        "    eratioV = (smallR_N/smallR_1)**(1/2) # From the equation v² = Gm/r we have that the expected ratio \\sqrt(r_2/r_1) = v_1/v_2\n",
        "    uncertainty = cratioV * ((err_1/smallV_1)**2 + (err_N/smallV_N)**2)**0.5\n",
        "    agreement = \"\" if eratioV >= cratioV - 2 * uncertainty and eratioV <= cratioV + 2*uncertainty else \" not\"\n",
        "\n",
        "    print(\"For N = {} and {} as our error type:\".format(N, err))\n",
        "    print(\"The expected velocity ratio based on the radii (radius at N = 1/ radius at N = {}) is {:.5f}.\".format(N, eratioV))\n",
        "    print(\"The calculated ratio based on the velocities (with uncertainty) (radius at N = 1/ radius at N = {}) is {:.5f} +/- {:.5f}.\".format(N, cratioV, uncertainty))\n",
        "    print(\"Thus, the 2-$\\sigma$ upper and lower limits of the calculated ratio are {:.5f} and {:.5f} respectively.\".format(cratioV + 2*uncertainty, cratioV - 2*uncertainty))\n",
        "    print(\"Which means that the expected ratio is{} within the $2-\\sigma$ of the calculated ratio.\\n\".format(agreement))"
      ],
      "execution_count": 112,
      "outputs": []
    },
    {
      "cell_type": "code",
      "metadata": {
        "ExecuteTime": {
          "end_time": "2019-08-02T02:22:20.233692Z",
          "start_time": "2019-08-02T02:22:20.225631Z"
        },
        "run_control": {
          "frozen": false,
          "read_only": false
        },
        "id": "8TPkTIthOdDI",
        "colab": {
          "base_uri": "https://localhost:8080/"
        },
        "outputId": "594d94ce-7d96-4c55-a884-9fdeb0ba04fa"
      },
      "source": [
        "m31Rds = m31Size/2\n",
        "vratios(m31, m31Rds, 1)\n",
        "\n",
        "vratios(m31, m31Rds, 1, err='err')"
      ],
      "execution_count": 113,
      "outputs": [
        {
          "output_type": "stream",
          "name": "stdout",
          "text": [
            "For N = 1 and dv as our error type:\n",
            "The expected velocity ratio based on the radii (radius at N = 1/ radius at N = 1) is 1.00000.\n",
            "The calculated ratio based on the velocities (with uncertainty) (radius at N = 1/ radius at N = 1) is 1.00000 +/- 0.07013.\n",
            "Thus, the 2-$\\sigma$ upper and lower limits of the calculated ratio are 1.14027 and 0.85973 respectively.\n",
            "Which means that the expected ratio is within the $2-\\sigma$ of the calculated ratio.\n",
            "\n",
            "For N = 1 and err as our error type:\n",
            "The expected velocity ratio based on the radii (radius at N = 1/ radius at N = 1) is 1.00000.\n",
            "The calculated ratio based on the velocities (with uncertainty) (radius at N = 1/ radius at N = 1) is 1.00000 +/- 0.05004.\n",
            "Thus, the 2-$\\sigma$ upper and lower limits of the calculated ratio are 1.10008 and 0.89992 respectively.\n",
            "Which means that the expected ratio is within the $2-\\sigma$ of the calculated ratio.\n",
            "\n"
          ]
        }
      ]
    },
    {
      "cell_type": "code",
      "source": [
        "vratios(m31, m31Size/2, 2, err = 'err')"
      ],
      "metadata": {
        "colab": {
          "base_uri": "https://localhost:8080/"
        },
        "id": "FdwWj_RCPU3S",
        "outputId": "4db272b1-3c06-4631-eea0-91834bce80e1"
      },
      "execution_count": 23,
      "outputs": [
        {
          "output_type": "stream",
          "name": "stdout",
          "text": [
            "For N = 2 and err as our error type:\n",
            "The expected velocity ratio based on the radii (radius at N = 1/ radius at N = 2) is 1.43998.\n",
            "The calculated ratio based on the velocities (with uncertainty) (radius at N = 1/ radius at N = 2) is 0.99765 +/- 0.46035.\n",
            "Thus, the 2-$\\sigma$ upper and lower limits of the calculated ratio are 1.91835 and 0.07694 respectively.\n",
            "Which means that the expected ratio is within the $2-\\sigma$ of the calculated ratio.\n",
            "\n"
          ]
        }
      ]
    },
    {
      "cell_type": "code",
      "metadata": {
        "ExecuteTime": {
          "end_time": "2019-08-02T02:22:26.272266Z",
          "start_time": "2019-08-02T02:22:26.263760Z"
        },
        "run_control": {
          "frozen": false,
          "read_only": false
        },
        "id": "XeQoBcM7OdDP",
        "colab": {
          "base_uri": "https://localhost:8080/"
        },
        "outputId": "d4e98a6f-27ba-4de4-94fe-cb5e43f16e13"
      },
      "source": [
        "vratios(m31, m31Rds, 2)"
      ],
      "execution_count": 21,
      "outputs": [
        {
          "output_type": "stream",
          "name": "stdout",
          "text": [
            "For N = 2 and dv as our error type:\n",
            "The expected velocity ratio based on the radii (radius at N = 1/ radius at N = 2) is 1.43998.\n",
            "The calculated ratio based on the velocities (with uncertainty) (radius at N = 1/ radius at N = 2) is 0.99765 +/- 0.46295.\n",
            "Thus, the 2-$\\sigma$ upper and lower limits of the calculated ratio are 1.92355 and 0.07174 respectively.\n",
            "Which means that the expected ratio is within the $2-\\sigma$ of the calculated ratio.\n",
            "\n"
          ]
        }
      ]
    },
    {
      "cell_type": "code",
      "metadata": {
        "ExecuteTime": {
          "end_time": "2019-08-02T02:24:18.604569Z",
          "start_time": "2019-08-02T02:24:18.596278Z"
        },
        "run_control": {
          "frozen": false,
          "read_only": false
        },
        "id": "Stigi9P_OdDW",
        "colab": {
          "base_uri": "https://localhost:8080/"
        },
        "outputId": "c996fa15-5c2d-4eae-ff15-54e781dfc71b"
      },
      "source": [
        "vratios(m31, m31Rds, 2, err='err')"
      ],
      "execution_count": 22,
      "outputs": [
        {
          "output_type": "stream",
          "name": "stdout",
          "text": [
            "For N = 2 and err as our error type:\n",
            "The expected velocity ratio based on the radii (radius at N = 1/ radius at N = 2) is 1.43998.\n",
            "The calculated ratio based on the velocities (with uncertainty) (radius at N = 1/ radius at N = 2) is 0.99765 +/- 0.46035.\n",
            "Thus, the 2-$\\sigma$ upper and lower limits of the calculated ratio are 1.91835 and 0.07694 respectively.\n",
            "Which means that the expected ratio is within the $2-\\sigma$ of the calculated ratio.\n",
            "\n"
          ]
        }
      ]
    },
    {
      "cell_type": "code",
      "source": [
        "m = 25\n",
        "vratios(m31, m31Rds, m)\n",
        "vratios(m31, m31Rds, m, err='err')"
      ],
      "metadata": {
        "colab": {
          "base_uri": "https://localhost:8080/"
        },
        "id": "r-MGbORpMZO3",
        "outputId": "9315131e-e4d7-477c-8085-d7f6b34affb8"
      },
      "execution_count": 47,
      "outputs": [
        {
          "output_type": "stream",
          "name": "stdout",
          "text": [
            "For N = 25 and dv as our error type:\n",
            "The expected velocity ratio based on the radii (radius at N = 1/ radius at N = 25) is 5.15974.\n",
            "The calculated ratio based on the velocities (with uncertainty) (radius at N = 1/ radius at N = 25) is 0.98970 +/- 0.61422.\n",
            "Thus, the 2-$\\sigma$ upper and lower limits of the calculated ratio are 2.21813 and -0.23874 respectively.\n",
            "Which means that the expected ratio is not within the $2-\\sigma$ of the calculated ratio.\n",
            "\n",
            "For N = 25 and err as our error type:\n",
            "The expected velocity ratio based on the radii (radius at N = 1/ radius at N = 25) is 5.15974.\n",
            "The calculated ratio based on the velocities (with uncertainty) (radius at N = 1/ radius at N = 25) is 0.98970 +/- 0.61229.\n",
            "Thus, the 2-$\\sigma$ upper and lower limits of the calculated ratio are 2.21428 and -0.23488 respectively.\n",
            "Which means that the expected ratio is not within the $2-\\sigma$ of the calculated ratio.\n",
            "\n"
          ]
        }
      ]
    },
    {
      "cell_type": "markdown",
      "metadata": {
        "ExecuteTime": {
          "end_time": "2019-08-02T00:36:41.637045Z",
          "start_time": "2019-08-02T00:36:41.634825Z"
        },
        "run_control": {
          "frozen": false,
          "read_only": false
        },
        "id": "6me5k4c1OdDY"
      },
      "source": [
        "### Discuss!"
      ]
    },
    {
      "cell_type": "markdown",
      "source": [
        "###### Comparing the discrepancy results for N between 1 and 25 it appears that for values less than 10 the expected calculations lie withing the 2 $\\sigma$ range from the calculated ratio. However, for N larger than 10, the majority of expected values are not within the 2 $\\sigma$ range from the calculated ratio, despite of the large errors. This might be indicating \"missing mass\" of the galaxy, namely some preliminary evidence for dark matter.  \n"
      ],
      "metadata": {
        "id": "6c0a79wQNBBG"
      }
    },
    {
      "cell_type": "markdown",
      "metadata": {
        "run_control": {
          "frozen": false,
          "read_only": false
        },
        "id": "QIHRn8UlOdDZ"
      },
      "source": [
        "## do the same for the Milky Way. If your functions were create properly you should be able to reuse them seamlessly"
      ]
    },
    {
      "cell_type": "code",
      "metadata": {
        "id": "NVp9cJzv-Dic",
        "colab": {
          "base_uri": "https://localhost:8080/",
          "height": 472
        },
        "outputId": "2729d568-db6e-4cbd-f4b9-76f5e81eb10e"
      },
      "source": [
        "# Following the same steps as in the data from Andromeda\n",
        "\n",
        "mw = pd.read_csv(\"https://raw.githubusercontent.com/fedhere/DSPS_FBianco/main/HW4/m31.csv\",\n",
        "                  delimiter=\",\", header = 1)\n",
        "mw.rename(columns={'#R(kpc': 'r', 'V(km/s)': 'v', 'St.dev.': 'dv', 'St.error': 'err'}, inplace = True)\n",
        "\n",
        "# Using data from Wikipedia\n",
        "mwSize = 26.8 * u.kpc\n",
        "mwSizeError = 1.1 * u.kpc\n",
        "print(\"Size of the visible component of the Milky Way: \" +\n",
        "      r\"{:.1f} +/- {:2.1f}\".format(mwSize, mwSizeError))\n",
        "\n",
        "mwRds = mwSize/2\n",
        "plotGal(mw, mwRds)"
      ],
      "execution_count": 98,
      "outputs": [
        {
          "output_type": "stream",
          "name": "stdout",
          "text": [
            "Size of the visible component of the Milky Way: 26.8 kpc +/- 1.1 kpc\n"
          ]
        },
        {
          "output_type": "display_data",
          "data": {
            "text/plain": [
              "<Figure size 640x480 with 1 Axes>"
            ],
            "image/png": "[encoded data removed]"
          },
          "metadata": {}
        }
      ]
    },
    {
      "cell_type": "markdown",
      "source": [
        "# Fig. 8. Velocity vs. Radius plot of the mw data set. The blue line shows the corresponding velocity as the size (radius) of the galaxy increases with its corresponding error (the thicker line is the standard error, and the fainter the standard deviation). In orange, green and red the data for 1,2 and 3 galactic radii is shown with the corresponding standard deviation and standard error for each as well (black)."
      ],
      "metadata": {
        "id": "Y-xyWlMMhmjI"
      }
    },
    {
      "cell_type": "code",
      "source": [
        "for N in range(1, 26):\n",
        "  print(N)\n",
        "  vratios(mw, mwRds, N, err = 'dv')\n",
        "  vratios(mw, mwRds, N, err = 'err')"
      ],
      "metadata": {
        "colab": {
          "base_uri": "https://localhost:8080/"
        },
        "id": "li-94rpWgiQe",
        "outputId": "58f12eae-37c4-4dd3-a89f-86453b159ec9"
      },
      "execution_count": 100,
      "outputs": [
        {
          "output_type": "stream",
          "name": "stdout",
          "text": [
            "1\n",
            "For N = 1 and dv as our error type:\n",
            "The expected velocity ratio based on the radii (radius at N = 1/ radius at N = 1) is 1.00000.\n",
            "The calculated ratio based on the velocities (with uncertainty) (radius at N = 1/ radius at N = 1) is 1.00000 +/- 0.05403.\n",
            "Thus, the 2-$\\sigma$ upper and lower limits of the calculated ratio are 1.10806 and 0.89194 respectively.\n",
            "Which means that the expected ratio is within the $2-\\sigma$ of the calculated ratio.\n",
            "\n",
            "For N = 1 and err as our error type:\n",
            "The expected velocity ratio based on the radii (radius at N = 1/ radius at N = 1) is 1.00000.\n",
            "The calculated ratio based on the velocities (with uncertainty) (radius at N = 1/ radius at N = 1) is 1.00000 +/- 0.03880.\n",
            "Thus, the 2-$\\sigma$ upper and lower limits of the calculated ratio are 1.07759 and 0.92241 respectively.\n",
            "Which means that the expected ratio is within the $2-\\sigma$ of the calculated ratio.\n",
            "\n",
            "2\n",
            "For N = 2 and dv as our error type:\n",
            "The expected velocity ratio based on the radii (radius at N = 1/ radius at N = 2) is 1.44000.\n",
            "The calculated ratio based on the velocities (with uncertainty) (radius at N = 1/ radius at N = 2) is 1.13110 +/- 0.09155.\n",
            "Thus, the 2-$\\sigma$ upper and lower limits of the calculated ratio are 1.31419 and 0.94801 respectively.\n",
            "Which means that the expected ratio is not within the $2-\\sigma$ of the calculated ratio.\n",
            "\n",
            "For N = 2 and err as our error type:\n",
            "The expected velocity ratio based on the radii (radius at N = 1/ radius at N = 2) is 1.44000.\n",
            "The calculated ratio based on the velocities (with uncertainty) (radius at N = 1/ radius at N = 2) is 1.13110 +/- 0.08106.\n",
            "Thus, the 2-$\\sigma$ upper and lower limits of the calculated ratio are 1.29323 and 0.96898 respectively.\n",
            "Which means that the expected ratio is not within the $2-\\sigma$ of the calculated ratio.\n",
            "\n",
            "3\n",
            "For N = 3 and dv as our error type:\n",
            "The expected velocity ratio based on the radii (radius at N = 1/ radius at N = 3) is 1.72801.\n",
            "The calculated ratio based on the velocities (with uncertainty) (radius at N = 1/ radius at N = 3) is 1.14039 +/- 0.26310.\n",
            "Thus, the 2-$\\sigma$ upper and lower limits of the calculated ratio are 1.66659 and 0.61419 respectively.\n",
            "Which means that the expected ratio is not within the $2-\\sigma$ of the calculated ratio.\n",
            "\n",
            "For N = 3 and err as our error type:\n",
            "The expected velocity ratio based on the radii (radius at N = 1/ radius at N = 3) is 1.72801.\n",
            "The calculated ratio based on the velocities (with uncertainty) (radius at N = 1/ radius at N = 3) is 1.14039 +/- 0.25958.\n",
            "Thus, the 2-$\\sigma$ upper and lower limits of the calculated ratio are 1.65955 and 0.62122 respectively.\n",
            "Which means that the expected ratio is not within the $2-\\sigma$ of the calculated ratio.\n",
            "\n",
            "4\n",
            "For N = 4 and dv as our error type:\n",
            "The expected velocity ratio based on the radii (radius at N = 1/ radius at N = 4) is 2.07361.\n",
            "The calculated ratio based on the velocities (with uncertainty) (radius at N = 1/ radius at N = 4) is 1.05353 +/- 0.56971.\n",
            "Thus, the 2-$\\sigma$ upper and lower limits of the calculated ratio are 2.19294 and -0.08589 respectively.\n",
            "Which means that the expected ratio is within the $2-\\sigma$ of the calculated ratio.\n",
            "\n",
            "For N = 4 and err as our error type:\n",
            "The expected velocity ratio based on the radii (radius at N = 1/ radius at N = 4) is 2.07361.\n",
            "The calculated ratio based on the velocities (with uncertainty) (radius at N = 1/ radius at N = 4) is 1.05353 +/- 0.56833.\n",
            "Thus, the 2-$\\sigma$ upper and lower limits of the calculated ratio are 2.19018 and -0.08313 respectively.\n",
            "Which means that the expected ratio is within the $2-\\sigma$ of the calculated ratio.\n",
            "\n",
            "5\n",
            "For N = 5 and dv as our error type:\n",
            "The expected velocity ratio based on the radii (radius at N = 1/ radius at N = 5) is 2.27152.\n",
            "The calculated ratio based on the velocities (with uncertainty) (radius at N = 1/ radius at N = 5) is 1.20278 +/- 0.73006.\n",
            "Thus, the 2-$\\sigma$ upper and lower limits of the calculated ratio are 2.66291 and -0.25734 respectively.\n",
            "Which means that the expected ratio is within the $2-\\sigma$ of the calculated ratio.\n",
            "\n",
            "For N = 5 and err as our error type:\n",
            "The expected velocity ratio based on the radii (radius at N = 1/ radius at N = 5) is 2.27152.\n",
            "The calculated ratio based on the velocities (with uncertainty) (radius at N = 1/ radius at N = 5) is 1.20278 +/- 0.72866.\n",
            "Thus, the 2-$\\sigma$ upper and lower limits of the calculated ratio are 2.66010 and -0.25454 respectively.\n",
            "Which means that the expected ratio is within the $2-\\sigma$ of the calculated ratio.\n",
            "\n",
            "6\n",
            "For N = 6 and dv as our error type:\n",
            "The expected velocity ratio based on the radii (radius at N = 1/ radius at N = 6) is 2.48832.\n",
            "The calculated ratio based on the velocities (with uncertainty) (radius at N = 1/ radius at N = 6) is 1.27198 +/- 0.83258.\n",
            "Thus, the 2-$\\sigma$ upper and lower limits of the calculated ratio are 2.93715 and -0.39319 respectively.\n",
            "Which means that the expected ratio is within the $2-\\sigma$ of the calculated ratio.\n",
            "\n",
            "For N = 6 and err as our error type:\n",
            "The expected velocity ratio based on the radii (radius at N = 1/ radius at N = 6) is 2.48832.\n",
            "The calculated ratio based on the velocities (with uncertainty) (radius at N = 1/ radius at N = 6) is 1.27198 +/- 0.83121.\n",
            "Thus, the 2-$\\sigma$ upper and lower limits of the calculated ratio are 2.93440 and -0.39044 respectively.\n",
            "Which means that the expected ratio is within the $2-\\sigma$ of the calculated ratio.\n",
            "\n",
            "7\n",
            "For N = 7 and dv as our error type:\n",
            "The expected velocity ratio based on the radii (radius at N = 1/ radius at N = 7) is 2.72583.\n",
            "The calculated ratio based on the velocities (with uncertainty) (radius at N = 1/ radius at N = 7) is 1.23377 +/- 0.76867.\n",
            "Thus, the 2-$\\sigma$ upper and lower limits of the calculated ratio are 2.77111 and -0.30357 respectively.\n",
            "Which means that the expected ratio is within the $2-\\sigma$ of the calculated ratio.\n",
            "\n",
            "For N = 7 and err as our error type:\n",
            "The expected velocity ratio based on the radii (radius at N = 1/ radius at N = 7) is 2.72583.\n",
            "The calculated ratio based on the velocities (with uncertainty) (radius at N = 1/ radius at N = 7) is 1.23377 +/- 0.76727.\n",
            "Thus, the 2-$\\sigma$ upper and lower limits of the calculated ratio are 2.76830 and -0.30077 respectively.\n",
            "Which means that the expected ratio is within the $2-\\sigma$ of the calculated ratio.\n",
            "\n",
            "8\n",
            "For N = 8 and dv as our error type:\n",
            "The expected velocity ratio based on the radii (radius at N = 1/ radius at N = 8) is 2.98599.\n",
            "The calculated ratio based on the velocities (with uncertainty) (radius at N = 1/ radius at N = 8) is 1.33140 +/- 0.71497.\n",
            "Thus, the 2-$\\sigma$ upper and lower limits of the calculated ratio are 2.76133 and -0.09854 respectively.\n",
            "Which means that the expected ratio is not within the $2-\\sigma$ of the calculated ratio.\n",
            "\n",
            "For N = 8 and err as our error type:\n",
            "The expected velocity ratio based on the radii (radius at N = 1/ radius at N = 8) is 2.98599.\n",
            "The calculated ratio based on the velocities (with uncertainty) (radius at N = 1/ radius at N = 8) is 1.33140 +/- 0.71321.\n",
            "Thus, the 2-$\\sigma$ upper and lower limits of the calculated ratio are 2.75782 and -0.09503 respectively.\n",
            "Which means that the expected ratio is not within the $2-\\sigma$ of the calculated ratio.\n",
            "\n",
            "9\n",
            "For N = 9 and dv as our error type:\n",
            "The expected velocity ratio based on the radii (radius at N = 1/ radius at N = 9) is 2.98599.\n",
            "The calculated ratio based on the velocities (with uncertainty) (radius at N = 1/ radius at N = 9) is 1.33140 +/- 0.71497.\n",
            "Thus, the 2-$\\sigma$ upper and lower limits of the calculated ratio are 2.76133 and -0.09854 respectively.\n",
            "Which means that the expected ratio is not within the $2-\\sigma$ of the calculated ratio.\n",
            "\n",
            "For N = 9 and err as our error type:\n",
            "The expected velocity ratio based on the radii (radius at N = 1/ radius at N = 9) is 2.98599.\n",
            "The calculated ratio based on the velocities (with uncertainty) (radius at N = 1/ radius at N = 9) is 1.33140 +/- 0.71321.\n",
            "Thus, the 2-$\\sigma$ upper and lower limits of the calculated ratio are 2.75782 and -0.09503 respectively.\n",
            "Which means that the expected ratio is not within the $2-\\sigma$ of the calculated ratio.\n",
            "\n",
            "10\n",
            "For N = 10 and dv as our error type:\n",
            "The expected velocity ratio based on the radii (radius at N = 1/ radius at N = 10) is 3.27099.\n",
            "The calculated ratio based on the velocities (with uncertainty) (radius at N = 1/ radius at N = 10) is 1.48036 +/- 0.68416.\n",
            "Thus, the 2-$\\sigma$ upper and lower limits of the calculated ratio are 2.84868 and 0.11204 respectively.\n",
            "Which means that the expected ratio is not within the $2-\\sigma$ of the calculated ratio.\n",
            "\n",
            "For N = 10 and err as our error type:\n",
            "The expected velocity ratio based on the radii (radius at N = 1/ radius at N = 10) is 3.27099.\n",
            "The calculated ratio based on the velocities (with uncertainty) (radius at N = 1/ radius at N = 10) is 1.48036 +/- 0.68189.\n",
            "Thus, the 2-$\\sigma$ upper and lower limits of the calculated ratio are 2.84414 and 0.11658 respectively.\n",
            "Which means that the expected ratio is not within the $2-\\sigma$ of the calculated ratio.\n",
            "\n",
            "11\n",
            "For N = 11 and dv as our error type:\n",
            "The expected velocity ratio based on the radii (radius at N = 1/ radius at N = 11) is 3.58319.\n",
            "The calculated ratio based on the velocities (with uncertainty) (radius at N = 1/ radius at N = 11) is 1.58957 +/- 0.72033.\n",
            "Thus, the 2-$\\sigma$ upper and lower limits of the calculated ratio are 3.03022 and 0.14891 respectively.\n",
            "Which means that the expected ratio is not within the $2-\\sigma$ of the calculated ratio.\n",
            "\n",
            "For N = 11 and err as our error type:\n",
            "The expected velocity ratio based on the radii (radius at N = 1/ radius at N = 11) is 3.58319.\n",
            "The calculated ratio based on the velocities (with uncertainty) (radius at N = 1/ radius at N = 11) is 1.58957 +/- 0.71784.\n",
            "Thus, the 2-$\\sigma$ upper and lower limits of the calculated ratio are 3.02525 and 0.15388 respectively.\n",
            "Which means that the expected ratio is not within the $2-\\sigma$ of the calculated ratio.\n",
            "\n",
            "12\n",
            "For N = 12 and dv as our error type:\n",
            "The expected velocity ratio based on the radii (radius at N = 1/ radius at N = 12) is 3.58319.\n",
            "The calculated ratio based on the velocities (with uncertainty) (radius at N = 1/ radius at N = 12) is 1.58957 +/- 0.72033.\n",
            "Thus, the 2-$\\sigma$ upper and lower limits of the calculated ratio are 3.03022 and 0.14891 respectively.\n",
            "Which means that the expected ratio is not within the $2-\\sigma$ of the calculated ratio.\n",
            "\n",
            "For N = 12 and err as our error type:\n",
            "The expected velocity ratio based on the radii (radius at N = 1/ radius at N = 12) is 3.58319.\n",
            "The calculated ratio based on the velocities (with uncertainty) (radius at N = 1/ radius at N = 12) is 1.58957 +/- 0.71784.\n",
            "Thus, the 2-$\\sigma$ upper and lower limits of the calculated ratio are 3.02525 and 0.15388 respectively.\n",
            "Which means that the expected ratio is not within the $2-\\sigma$ of the calculated ratio.\n",
            "\n",
            "13\n",
            "For N = 13 and dv as our error type:\n",
            "The expected velocity ratio based on the radii (radius at N = 1/ radius at N = 13) is 3.58319.\n",
            "The calculated ratio based on the velocities (with uncertainty) (radius at N = 1/ radius at N = 13) is 1.58957 +/- 0.72033.\n",
            "Thus, the 2-$\\sigma$ upper and lower limits of the calculated ratio are 3.03022 and 0.14891 respectively.\n",
            "Which means that the expected ratio is not within the $2-\\sigma$ of the calculated ratio.\n",
            "\n",
            "For N = 13 and err as our error type:\n",
            "The expected velocity ratio based on the radii (radius at N = 1/ radius at N = 13) is 3.58319.\n",
            "The calculated ratio based on the velocities (with uncertainty) (radius at N = 1/ radius at N = 13) is 1.58957 +/- 0.71784.\n",
            "Thus, the 2-$\\sigma$ upper and lower limits of the calculated ratio are 3.02525 and 0.15388 respectively.\n",
            "Which means that the expected ratio is not within the $2-\\sigma$ of the calculated ratio.\n",
            "\n",
            "14\n",
            "For N = 14 and dv as our error type:\n",
            "The expected velocity ratio based on the radii (radius at N = 1/ radius at N = 14) is 3.92518.\n",
            "The calculated ratio based on the velocities (with uncertainty) (radius at N = 1/ radius at N = 14) is 1.59140 +/- 0.74386.\n",
            "Thus, the 2-$\\sigma$ upper and lower limits of the calculated ratio are 3.07912 and 0.10369 respectively.\n",
            "Which means that the expected ratio is not within the $2-\\sigma$ of the calculated ratio.\n",
            "\n",
            "For N = 14 and err as our error type:\n",
            "The expected velocity ratio based on the radii (radius at N = 1/ radius at N = 14) is 3.92518.\n",
            "The calculated ratio based on the velocities (with uncertainty) (radius at N = 1/ radius at N = 14) is 1.59140 +/- 0.74145.\n",
            "Thus, the 2-$\\sigma$ upper and lower limits of the calculated ratio are 3.07430 and 0.10851 respectively.\n",
            "Which means that the expected ratio is not within the $2-\\sigma$ of the calculated ratio.\n",
            "\n",
            "15\n",
            "For N = 15 and dv as our error type:\n",
            "The expected velocity ratio based on the radii (radius at N = 1/ radius at N = 15) is 3.92518.\n",
            "The calculated ratio based on the velocities (with uncertainty) (radius at N = 1/ radius at N = 15) is 1.59140 +/- 0.74386.\n",
            "Thus, the 2-$\\sigma$ upper and lower limits of the calculated ratio are 3.07912 and 0.10369 respectively.\n",
            "Which means that the expected ratio is not within the $2-\\sigma$ of the calculated ratio.\n",
            "\n",
            "For N = 15 and err as our error type:\n",
            "The expected velocity ratio based on the radii (radius at N = 1/ radius at N = 15) is 3.92518.\n",
            "The calculated ratio based on the velocities (with uncertainty) (radius at N = 1/ radius at N = 15) is 1.59140 +/- 0.74145.\n",
            "Thus, the 2-$\\sigma$ upper and lower limits of the calculated ratio are 3.07430 and 0.10851 respectively.\n",
            "Which means that the expected ratio is not within the $2-\\sigma$ of the calculated ratio.\n",
            "\n",
            "16\n",
            "For N = 16 and dv as our error type:\n",
            "The expected velocity ratio based on the radii (radius at N = 1/ radius at N = 16) is 4.29983.\n",
            "The calculated ratio based on the velocities (with uncertainty) (radius at N = 1/ radius at N = 16) is 1.63443 +/- 0.78926.\n",
            "Thus, the 2-$\\sigma$ upper and lower limits of the calculated ratio are 3.21295 and 0.05591 respectively.\n",
            "Which means that the expected ratio is not within the $2-\\sigma$ of the calculated ratio.\n",
            "\n",
            "For N = 16 and err as our error type:\n",
            "The expected velocity ratio based on the radii (radius at N = 1/ radius at N = 16) is 4.29983.\n",
            "The calculated ratio based on the velocities (with uncertainty) (radius at N = 1/ radius at N = 16) is 1.63443 +/- 0.78686.\n",
            "Thus, the 2-$\\sigma$ upper and lower limits of the calculated ratio are 3.20815 and 0.06070 respectively.\n",
            "Which means that the expected ratio is not within the $2-\\sigma$ of the calculated ratio.\n",
            "\n",
            "17\n",
            "For N = 17 and dv as our error type:\n",
            "The expected velocity ratio based on the radii (radius at N = 1/ radius at N = 17) is 4.29983.\n",
            "The calculated ratio based on the velocities (with uncertainty) (radius at N = 1/ radius at N = 17) is 1.63443 +/- 0.78926.\n",
            "Thus, the 2-$\\sigma$ upper and lower limits of the calculated ratio are 3.21295 and 0.05591 respectively.\n",
            "Which means that the expected ratio is not within the $2-\\sigma$ of the calculated ratio.\n",
            "\n",
            "For N = 17 and err as our error type:\n",
            "The expected velocity ratio based on the radii (radius at N = 1/ radius at N = 17) is 4.29983.\n",
            "The calculated ratio based on the velocities (with uncertainty) (radius at N = 1/ radius at N = 17) is 1.63443 +/- 0.78686.\n",
            "Thus, the 2-$\\sigma$ upper and lower limits of the calculated ratio are 3.20815 and 0.06070 respectively.\n",
            "Which means that the expected ratio is not within the $2-\\sigma$ of the calculated ratio.\n",
            "\n",
            "18\n",
            "For N = 18 and dv as our error type:\n",
            "The expected velocity ratio based on the radii (radius at N = 1/ radius at N = 18) is 4.29983.\n",
            "The calculated ratio based on the velocities (with uncertainty) (radius at N = 1/ radius at N = 18) is 1.63443 +/- 0.78926.\n",
            "Thus, the 2-$\\sigma$ upper and lower limits of the calculated ratio are 3.21295 and 0.05591 respectively.\n",
            "Which means that the expected ratio is not within the $2-\\sigma$ of the calculated ratio.\n",
            "\n",
            "For N = 18 and err as our error type:\n",
            "The expected velocity ratio based on the radii (radius at N = 1/ radius at N = 18) is 4.29983.\n",
            "The calculated ratio based on the velocities (with uncertainty) (radius at N = 1/ radius at N = 18) is 1.63443 +/- 0.78686.\n",
            "Thus, the 2-$\\sigma$ upper and lower limits of the calculated ratio are 3.20815 and 0.06070 respectively.\n",
            "Which means that the expected ratio is not within the $2-\\sigma$ of the calculated ratio.\n",
            "\n",
            "19\n",
            "For N = 19 and dv as our error type:\n",
            "The expected velocity ratio based on the radii (radius at N = 1/ radius at N = 19) is 4.71022.\n",
            "The calculated ratio based on the velocities (with uncertainty) (radius at N = 1/ radius at N = 19) is 1.73919 +/- 0.86343.\n",
            "Thus, the 2-$\\sigma$ upper and lower limits of the calculated ratio are 3.46605 and 0.01233 respectively.\n",
            "Which means that the expected ratio is not within the $2-\\sigma$ of the calculated ratio.\n",
            "\n",
            "For N = 19 and err as our error type:\n",
            "The expected velocity ratio based on the radii (radius at N = 1/ radius at N = 19) is 4.71022.\n",
            "The calculated ratio based on the velocities (with uncertainty) (radius at N = 1/ radius at N = 19) is 1.73919 +/- 0.86095.\n",
            "Thus, the 2-$\\sigma$ upper and lower limits of the calculated ratio are 3.46109 and 0.01729 respectively.\n",
            "Which means that the expected ratio is not within the $2-\\sigma$ of the calculated ratio.\n",
            "\n",
            "20\n",
            "For N = 20 and dv as our error type:\n",
            "The expected velocity ratio based on the radii (radius at N = 1/ radius at N = 20) is 4.71022.\n",
            "The calculated ratio based on the velocities (with uncertainty) (radius at N = 1/ radius at N = 20) is 1.73919 +/- 0.86343.\n",
            "Thus, the 2-$\\sigma$ upper and lower limits of the calculated ratio are 3.46605 and 0.01233 respectively.\n",
            "Which means that the expected ratio is not within the $2-\\sigma$ of the calculated ratio.\n",
            "\n",
            "For N = 20 and err as our error type:\n",
            "The expected velocity ratio based on the radii (radius at N = 1/ radius at N = 20) is 4.71022.\n",
            "The calculated ratio based on the velocities (with uncertainty) (radius at N = 1/ radius at N = 20) is 1.73919 +/- 0.86095.\n",
            "Thus, the 2-$\\sigma$ upper and lower limits of the calculated ratio are 3.46109 and 0.01729 respectively.\n",
            "Which means that the expected ratio is not within the $2-\\sigma$ of the calculated ratio.\n",
            "\n",
            "21\n",
            "For N = 21 and dv as our error type:\n",
            "The expected velocity ratio based on the radii (radius at N = 1/ radius at N = 21) is 4.71022.\n",
            "The calculated ratio based on the velocities (with uncertainty) (radius at N = 1/ radius at N = 21) is 1.73919 +/- 0.86343.\n",
            "Thus, the 2-$\\sigma$ upper and lower limits of the calculated ratio are 3.46605 and 0.01233 respectively.\n",
            "Which means that the expected ratio is not within the $2-\\sigma$ of the calculated ratio.\n",
            "\n",
            "For N = 21 and err as our error type:\n",
            "The expected velocity ratio based on the radii (radius at N = 1/ radius at N = 21) is 4.71022.\n",
            "The calculated ratio based on the velocities (with uncertainty) (radius at N = 1/ radius at N = 21) is 1.73919 +/- 0.86095.\n",
            "Thus, the 2-$\\sigma$ upper and lower limits of the calculated ratio are 3.46109 and 0.01729 respectively.\n",
            "Which means that the expected ratio is not within the $2-\\sigma$ of the calculated ratio.\n",
            "\n",
            "22\n",
            "For N = 22 and dv as our error type:\n",
            "The expected velocity ratio based on the radii (radius at N = 1/ radius at N = 22) is 4.71022.\n",
            "The calculated ratio based on the velocities (with uncertainty) (radius at N = 1/ radius at N = 22) is 1.73919 +/- 0.86343.\n",
            "Thus, the 2-$\\sigma$ upper and lower limits of the calculated ratio are 3.46605 and 0.01233 respectively.\n",
            "Which means that the expected ratio is not within the $2-\\sigma$ of the calculated ratio.\n",
            "\n",
            "For N = 22 and err as our error type:\n",
            "The expected velocity ratio based on the radii (radius at N = 1/ radius at N = 22) is 4.71022.\n",
            "The calculated ratio based on the velocities (with uncertainty) (radius at N = 1/ radius at N = 22) is 1.73919 +/- 0.86095.\n",
            "Thus, the 2-$\\sigma$ upper and lower limits of the calculated ratio are 3.46109 and 0.01729 respectively.\n",
            "Which means that the expected ratio is not within the $2-\\sigma$ of the calculated ratio.\n",
            "\n",
            "23\n",
            "For N = 23 and dv as our error type:\n",
            "The expected velocity ratio based on the radii (radius at N = 1/ radius at N = 23) is 5.15980.\n",
            "The calculated ratio based on the velocities (with uncertainty) (radius at N = 1/ radius at N = 23) is 2.15452 +/- 1.70618.\n",
            "Thus, the 2-$\\sigma$ upper and lower limits of the calculated ratio are 5.56688 and -1.25785 respectively.\n",
            "Which means that the expected ratio is within the $2-\\sigma$ of the calculated ratio.\n",
            "\n",
            "For N = 23 and err as our error type:\n",
            "The expected velocity ratio based on the radii (radius at N = 1/ radius at N = 23) is 5.15980.\n",
            "The calculated ratio based on the velocities (with uncertainty) (radius at N = 1/ radius at N = 23) is 2.15452 +/- 1.70426.\n",
            "Thus, the 2-$\\sigma$ upper and lower limits of the calculated ratio are 5.56303 and -1.25400 respectively.\n",
            "Which means that the expected ratio is within the $2-\\sigma$ of the calculated ratio.\n",
            "\n",
            "24\n",
            "For N = 24 and dv as our error type:\n",
            "The expected velocity ratio based on the radii (radius at N = 1/ radius at N = 24) is 5.15980.\n",
            "The calculated ratio based on the velocities (with uncertainty) (radius at N = 1/ radius at N = 24) is 2.15452 +/- 1.70618.\n",
            "Thus, the 2-$\\sigma$ upper and lower limits of the calculated ratio are 5.56688 and -1.25785 respectively.\n",
            "Which means that the expected ratio is within the $2-\\sigma$ of the calculated ratio.\n",
            "\n",
            "For N = 24 and err as our error type:\n",
            "The expected velocity ratio based on the radii (radius at N = 1/ radius at N = 24) is 5.15980.\n",
            "The calculated ratio based on the velocities (with uncertainty) (radius at N = 1/ radius at N = 24) is 2.15452 +/- 1.70426.\n",
            "Thus, the 2-$\\sigma$ upper and lower limits of the calculated ratio are 5.56303 and -1.25400 respectively.\n",
            "Which means that the expected ratio is within the $2-\\sigma$ of the calculated ratio.\n",
            "\n",
            "25\n",
            "For N = 25 and dv as our error type:\n",
            "The expected velocity ratio based on the radii (radius at N = 1/ radius at N = 25) is 5.15980.\n",
            "The calculated ratio based on the velocities (with uncertainty) (radius at N = 1/ radius at N = 25) is 2.15452 +/- 1.70618.\n",
            "Thus, the 2-$\\sigma$ upper and lower limits of the calculated ratio are 5.56688 and -1.25785 respectively.\n",
            "Which means that the expected ratio is within the $2-\\sigma$ of the calculated ratio.\n",
            "\n",
            "For N = 25 and err as our error type:\n",
            "The expected velocity ratio based on the radii (radius at N = 1/ radius at N = 25) is 5.15980.\n",
            "The calculated ratio based on the velocities (with uncertainty) (radius at N = 1/ radius at N = 25) is 2.15452 +/- 1.70426.\n",
            "Thus, the 2-$\\sigma$ upper and lower limits of the calculated ratio are 5.56303 and -1.25400 respectively.\n",
            "Which means that the expected ratio is within the $2-\\sigma$ of the calculated ratio.\n",
            "\n"
          ]
        }
      ]
    },
    {
      "cell_type": "markdown",
      "source": [
        "### Discussion"
      ],
      "metadata": {
        "id": "vDM9oOM4g-C7"
      }
    },
    {
      "cell_type": "markdown",
      "source": [
        "#### Analogous to the results from the Andromeda data, the majority of expected ratios between 1 and 25 galactic radii from the Milky Way do not fall under the $2\\sigma$ range of the calculated value for the ratio of velocities. Again, this might be an indication of more mass in the galaxy, a preliminary evidence for dark matter."
      ],
      "metadata": {
        "id": "pc4TS6BzhCAS"
      }
    },
    {
      "cell_type": "markdown",
      "metadata": {
        "run_control": {
          "frozen": false,
          "read_only": false
        },
        "id": "oxQofaCKOdDg"
      },
      "source": [
        "https://en.wikipedia.org/wiki/Milky_Way\n",
        "    "
      ]
    }
  ]
}